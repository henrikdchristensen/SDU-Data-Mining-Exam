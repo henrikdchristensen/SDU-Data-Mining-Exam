{
 "cells": [
  {
   "cell_type": "markdown",
   "metadata": {},
   "source": [
    "# Evaluation"
   ]
  },
  {
   "cell_type": "markdown",
   "metadata": {},
   "source": [
    "## Accuracy"
   ]
  },
  {
   "cell_type": "markdown",
   "metadata": {},
   "source": [
    "2clusters:\n",
    "- 100,000 datapoints\n",
    "- 10 dims\n",
    "- 2 clusters\n",
    "- 10% outliers\n",
    "- noiseMatrix:\n",
    "2\t1\n",
    "3\t6\n",
    "4\t7\n",
    "5\t8\n",
    "6\t9\n",
    "10\t10\n",
    "\n",
    "4clusters:\n",
    "- 100,000 datapoints\n",
    "- 10 dims\n",
    "- 4 clusters\n",
    "- 10% outliers\n",
    "- noiseMatrix:\n",
    "1\t1\t1\t3\n",
    "3\t2\t3\t4\n",
    "5\t3\t4\t6\n",
    "7\t5\t7\t7\n",
    "8\t9\t8\t9\n",
    "10\t10\t9\t10\n",
    "\n",
    "Similar accuracy experiment as in [MAFIA] is done by creating a small data set with 100,000 records in 10 dimensions. The first case, has two clusters embedded in a different 4 dimensional subspace. Second case, has 4 clusters embedded in a different 4 dimensional subspace.\n",
    "\n",
    "MAFIA reports the correct clusters in both cases with proper use of parameters. However, CLIQUE reports "
   ]
  },
  {
   "cell_type": "markdown",
   "metadata": {},
   "source": [
    "## CDUs"
   ]
  },
  {
   "cell_type": "markdown",
   "metadata": {},
   "source": [
    "- 500,000 datapoints\n",
    "- 8 dims\n",
    "- 1 clusters\n",
    "- 10% outliers\n",
    "- noiseMatrix:\n",
    "1\n",
    "3\n",
    "5\n",
    "7"
   ]
  },
  {
   "cell_type": "markdown",
   "metadata": {},
   "source": [
    "## Cluster dimensionality"
   ]
  },
  {
   "cell_type": "markdown",
   "metadata": {},
   "source": [
    "general:\n",
    "- 500,000 datapoints\n",
    "- 30 dims\n",
    "- 1 clusters\n",
    "- 10% outliers\n",
    "\n",
    "2d: 2 dims per cluster\n",
    "4d: 4 dims per cluster\n",
    "..."
   ]
  },
  {
   "cell_type": "markdown",
   "metadata": {},
   "source": [
    "## Data dimensionality"
   ]
  },
  {
   "cell_type": "markdown",
   "metadata": {},
   "source": [
    "general:\n",
    "- 1,000,000 data points\n",
    "- 3 clusters\n",
    "- 10% outliers\n",
    "- 5 dims per cluster\n",
    "- max distinct cluster dims = 9\n",
    "\n",
    "10d: 10 dimensions\n",
    "20d 20 dimensions\n",
    "..."
   ]
  },
  {
   "cell_type": "markdown",
   "metadata": {},
   "source": [
    "## Data set size"
   ]
  },
  {
   "cell_type": "markdown",
   "metadata": {},
   "source": [
    "general:\n",
    "- 20 dimensions\n",
    "- 5 clusters\n",
    "- 0% outliers\n",
    "- 5 dims per cluster\n",
    "\n",
    "1mio: 1,000,000 data points\n",
    "2mio: 2,000,000 data points\n",
    "\n",
    "kunne ikke 26 dims"
   ]
  },
  {
   "cell_type": "markdown",
   "metadata": {},
   "source": [
    "## Sensitivity\n",
    "As observed in article. Alpha and beta controls the number of clusters and their quality.\n",
    "\n",
    "\n",
    "- 1,000,000 data points\n",
    "- 20 dims\n",
    "- 5 clusters\n",
    "- 10% outliers\n",
    "- noiseMatrix:\n",
    "1\n",
    "3\n",
    "5\n",
    "7\n",
    "8"
   ]
  },
  {
   "cell_type": "code",
   "execution_count": 2,
   "metadata": {},
   "outputs": [
    {
     "data": {
      "image/png": "[encoded data removed]",
      "text/plain": [
       "<Figure size 200x200 with 1 Axes>"
      ]
     },
     "metadata": {},
     "output_type": "display_data"
    }
   ],
   "source": [
    "import matplotlib.pyplot as plt\n",
    "import numpy as np\n",
    "\n",
    "plt.style.use('_mpl-gallery')\n",
    "\n",
    "# make data\n",
    "x = np.linspace(0, 10, 100)\n",
    "y = 4 + 1 * np.sin(2 * x)\n",
    "\n",
    "# plot\n",
    "plt.plot(x, y, 'o-', linewidth=2)\n",
    "plt.show()"
   ]
  }
 ],
 "metadata": {
  "kernelspec": {
   "display_name": "mining",
   "language": "python",
   "name": "python3"
  },
  "language_info": {
   "codemirror_mode": {
    "name": "ipython",
    "version": 3
   },
   "file_extension": ".py",
   "mimetype": "text/x-python",
   "name": "python",
   "nbconvert_exporter": "python",
   "pygments_lexer": "ipython3",
   "version": "3.12.6"
  }
 },
 "nbformat": 4,
 "nbformat_minor": 2
}
